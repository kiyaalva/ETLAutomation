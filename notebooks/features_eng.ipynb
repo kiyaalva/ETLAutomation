{
 "cells": [
  {
   "cell_type": "code",
   "execution_count": 1,
   "metadata": {},
   "outputs": [
    {
     "name": "stdout",
     "output_type": "stream",
     "text": [
      "✅ Features extracted with true data types. Please label them in column_features.csv\n"
     ]
    },
    {
     "name": "stderr",
     "output_type": "stream",
     "text": [
      "C:\\Users\\kiran\\AppData\\Local\\Temp\\ipykernel_12988\\3467029169.py:31: UserWarning: Could not infer format, so each element will be parsed individually, falling back to `dateutil`. To ensure parsing is consistent and as-expected, please specify a format.\n",
      "  _ = pd.to_datetime(series_non_null, errors='raise')\n",
      "C:\\Users\\kiran\\AppData\\Local\\Temp\\ipykernel_12988\\3467029169.py:31: UserWarning: Could not infer format, so each element will be parsed individually, falling back to `dateutil`. To ensure parsing is consistent and as-expected, please specify a format.\n",
      "  _ = pd.to_datetime(series_non_null, errors='raise')\n",
      "C:\\Users\\kiran\\AppData\\Local\\Temp\\ipykernel_12988\\3467029169.py:31: UserWarning: Could not infer format, so each element will be parsed individually, falling back to `dateutil`. To ensure parsing is consistent and as-expected, please specify a format.\n",
      "  _ = pd.to_datetime(series_non_null, errors='raise')\n",
      "C:\\Users\\kiran\\AppData\\Local\\Temp\\ipykernel_12988\\3467029169.py:31: UserWarning: Could not infer format, so each element will be parsed individually, falling back to `dateutil`. To ensure parsing is consistent and as-expected, please specify a format.\n",
      "  _ = pd.to_datetime(series_non_null, errors='raise')\n"
     ]
    }
   ],
   "source": [
    "# 📓 01_feature_engineering.ipynb\n",
    "# Extract true features from columns for training the ML model\n",
    "\n",
    "import pandas as pd\n",
    "import os\n",
    "\n",
    "# Directory with raw CSV files\n",
    "data_dir = \"../data/raw\"\n",
    "all_feature_rows = []\n",
    "\n",
    "# --- New Smart Detection Function ---\n",
    "def detect_true_dtype(series: pd.Series) -> str:\n",
    "    series_non_null = series.dropna().astype(str)\n",
    "\n",
    "    # Try Integer\n",
    "    try:\n",
    "        _ = series_non_null.astype(int)\n",
    "        return 'integer'\n",
    "    except:\n",
    "        pass\n",
    "\n",
    "    # Try Float\n",
    "    try:\n",
    "        _ = series_non_null.astype(float)\n",
    "        return 'float'\n",
    "    except:\n",
    "        pass\n",
    "\n",
    "    # Try DateTime\n",
    "    try:\n",
    "        _ = pd.to_datetime(series_non_null, errors='raise')\n",
    "        return 'datetime'\n",
    "    except:\n",
    "        pass\n",
    "\n",
    "    # Else treat as Text\n",
    "    return 'text'\n",
    "\n",
    "# --- Updated Feature Extraction ---\n",
    "def extract_features_from_column(series: pd.Series):\n",
    "    true_dtype = detect_true_dtype(series)\n",
    "\n",
    "    return {\n",
    "        'column': series.name,\n",
    "        'dtype': true_dtype,  # 🚀 detected based on content, not pandas\n",
    "        'null_pct': series.isnull().mean(),\n",
    "        'unique_pct': series.nunique() / len(series),\n",
    "        'avg_len': series.dropna().astype(str).str.len().mean(),\n",
    "        'label': ''  # to be filled manually later\n",
    "    }\n",
    "\n",
    "# --- Loop through all CSVs and Extract Features ---\n",
    "for file in os.listdir(data_dir):\n",
    "    if file.endswith(\".csv\"):\n",
    "        df = pd.read_csv(os.path.join(data_dir, file))\n",
    "        for col in df.columns:\n",
    "            features = extract_features_from_column(df[col])\n",
    "            features['source_file'] = file\n",
    "            all_feature_rows.append(features)\n",
    "\n",
    "# --- Save extracted features to a CSV ---\n",
    "features_df = pd.DataFrame(all_feature_rows)\n",
    "features_df.to_csv(\"../data/column_features.csv\", index=False)\n",
    "print(\"✅ Features extracted with true data types. Please label them in column_features.csv\")\n"
   ]
  }
 ],
 "metadata": {
  "kernelspec": {
   "display_name": "venv",
   "language": "python",
   "name": "python3"
  },
  "language_info": {
   "codemirror_mode": {
    "name": "ipython",
    "version": 3
   },
   "file_extension": ".py",
   "mimetype": "text/x-python",
   "name": "python",
   "nbconvert_exporter": "python",
   "pygments_lexer": "ipython3",
   "version": "3.11.4"
  }
 },
 "nbformat": 4,
 "nbformat_minor": 2
}
