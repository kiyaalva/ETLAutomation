{
 "cells": [
  {
   "cell_type": "code",
   "execution_count": null,
   "metadata": {},
   "outputs": [],
   "source": [
    "import pandas as pd\n",
    "import joblib\n",
    "from etl_model_utils import predict_column_transformation"
   ]
  },
  {
   "cell_type": "code",
   "execution_count": 8,
   "metadata": {},
   "outputs": [],
   "source": [
    "df = pd.read_csv('K:/ETL_Automation/ETLAutomation/data/test/Social_Media_Engagement_Dataset.csv')"
   ]
  },
  {
   "cell_type": "code",
   "execution_count": 9,
   "metadata": {},
   "outputs": [
    {
     "data": {
      "text/plain": [
       "post_id                     object\n",
       "timestamp                   object\n",
       "day_of_week                 object\n",
       "platform                    object\n",
       "user_id                     object\n",
       "location                    object\n",
       "language                    object\n",
       "text_content                object\n",
       "hashtags                    object\n",
       "mentions                    object\n",
       "keywords                    object\n",
       "topic_category              object\n",
       "sentiment_score            float64\n",
       "sentiment_label             object\n",
       "emotion_type                object\n",
       "toxicity_score             float64\n",
       "likes_count                  int64\n",
       "shares_count                 int64\n",
       "comments_count               int64\n",
       "impressions                  int64\n",
       "engagement_rate            float64\n",
       "brand_name                  object\n",
       "product_name                object\n",
       "campaign_name               object\n",
       "campaign_phase              object\n",
       "user_past_sentiment_avg    float64\n",
       "user_engagement_growth     float64\n",
       "buzz_change_rate           float64\n",
       "dtype: object"
      ]
     },
     "execution_count": 9,
     "metadata": {},
     "output_type": "execute_result"
    }
   ],
   "source": [
    "df.dtypes"
   ]
  },
  {
   "cell_type": "code",
   "execution_count": 17,
   "metadata": {},
   "outputs": [
    {
     "ename": "TypeError",
     "evalue": "predict_column_transformation() takes 2 positional arguments but 3 were given",
     "output_type": "error",
     "traceback": [
      "\u001b[31m---------------------------------------------------------------------------\u001b[39m",
      "\u001b[31mTypeError\u001b[39m                                 Traceback (most recent call last)",
      "\u001b[36mCell\u001b[39m\u001b[36m \u001b[39m\u001b[32mIn[17]\u001b[39m\u001b[32m, line 41\u001b[39m\n\u001b[32m     38\u001b[39m     \u001b[38;5;28;01mreturn\u001b[39;00m transformed_df\n\u001b[32m     40\u001b[39m \u001b[38;5;66;03m# Example usage:\u001b[39;00m\n\u001b[32m---> \u001b[39m\u001b[32m41\u001b[39m df = \u001b[43msmart_etl_with_model\u001b[49m\u001b[43m(\u001b[49m\u001b[33;43m\"\u001b[39;49m\u001b[33;43m../data/test/Social_Media_Engagement_Dataset.csv\u001b[39;49m\u001b[33;43m\"\u001b[39;49m\u001b[43m,\u001b[49m\u001b[43m \u001b[49m\u001b[43mmodel\u001b[49m\u001b[43m)\u001b[49m\n",
      "\u001b[36mCell\u001b[39m\u001b[36m \u001b[39m\u001b[32mIn[17]\u001b[39m\u001b[32m, line 9\u001b[39m, in \u001b[36msmart_etl_with_model\u001b[39m\u001b[34m(filepath, model)\u001b[39m\n\u001b[32m      6\u001b[39m transformed_df = df.copy()\n\u001b[32m      8\u001b[39m \u001b[38;5;28;01mfor\u001b[39;00m col \u001b[38;5;129;01min\u001b[39;00m df.columns:\n\u001b[32m----> \u001b[39m\u001b[32m9\u001b[39m     action = \u001b[43mpredict_column_transformation\u001b[49m\u001b[43m(\u001b[49m\u001b[43mdf\u001b[49m\u001b[43m[\u001b[49m\u001b[43mcol\u001b[49m\u001b[43m]\u001b[49m\u001b[43m,\u001b[49m\u001b[43m \u001b[49m\u001b[43mmodel\u001b[49m\u001b[43m,\u001b[49m\u001b[43m \u001b[49m\u001b[43mlabel_encoder\u001b[49m\u001b[43m)\u001b[49m\n\u001b[32m     10\u001b[39m     \u001b[38;5;28mprint\u001b[39m(\u001b[33mf\u001b[39m\u001b[33m\"\u001b[39m\u001b[38;5;132;01m{\u001b[39;00mcol\u001b[38;5;132;01m}\u001b[39;00m\u001b[33m: \u001b[39m\u001b[38;5;132;01m{\u001b[39;00maction\u001b[38;5;132;01m}\u001b[39;00m\u001b[33m\"\u001b[39m)\n\u001b[32m     12\u001b[39m     \u001b[38;5;28;01mif\u001b[39;00m action == \u001b[33m'\u001b[39m\u001b[33mdrop_column\u001b[39m\u001b[33m'\u001b[39m:\n",
      "\u001b[31mTypeError\u001b[39m: predict_column_transformation() takes 2 positional arguments but 3 were given"
     ]
    }
   ],
   "source": [
    "\n",
    "\n",
    "model = joblib.load(\"../models/column_transform_model.pkl\")\n",
    "label_encoder = joblib.load(\"../models/label_encoder.pkl\")\n",
    "\n",
    "def smart_etl_with_model(filepath, model):\n",
    "    df = pd.read_csv(filepath)\n",
    "    transformed_df = df.copy()\n",
    "\n",
    "    for col in df.columns:\n",
    "        action = predict_column_transformation(df[col], model, label_encoder)\n",
    "        print(f\"{col}: {action}\")\n",
    "\n",
    "        if action == 'drop_column':\n",
    "            transformed_df.drop(columns=[col], inplace=True)\n",
    "        elif action == 'fill_zero':\n",
    "            transformed_df[col] = transformed_df[col].fillna(0)\n",
    "        elif action == 'fill_mean':\n",
    "            if pd.api.types.is_numeric_dtype(df[col]):\n",
    "                transformed_df[col] = transformed_df[col].fillna(df[col].mean())\n",
    "        elif action == 'strip_string':\n",
    "            transformed_df[col] = transformed_df[col].astype(str).str.strip()\n",
    "        elif action == 'cast_to_string':\n",
    "            transformed_df[col] = transformed_df[col].astype(str)\n",
    "        elif action == 'fill_mode':\n",
    "            mode_val = df[col].mode(dropna=True)\n",
    "            if not mode_val.empty:\n",
    "                transformed_df[col] = df[col].fillna(mode_val[0])\n",
    "        elif action == 'fill_mode_date':\n",
    "            if pd.api.types.is_datetime64_any_dtype(df[col]):\n",
    "                mode_val = df[col].mode(dropna=True)\n",
    "                if not mode_val.empty:\n",
    "                    transformed_df[col] = df[col].fillna(mode_val[0])\n",
    "        elif action == 'cast_to_int':\n",
    "            transformed_df[col] = pd.to_numeric(df[col], errors='coerce')  # Convert to float, NaNs where conversion fails\n",
    "            transformed_df[col] = transformed_df[col].fillna(0).astype(int)  # Fill NaNs (e.g., with 0) and cast to int\n",
    "\n",
    "    #print(\"\\n✅ Final transformed data:\")\n",
    "    #print(transformed_df.head())\n",
    "    return transformed_df\n",
    "\n",
    "# Example usage:\n",
    "df = smart_etl_with_model(\"../data/test/Social_Media_Engagement_Dataset.csv\", model)\n"
   ]
  },
  {
   "cell_type": "code",
   "execution_count": 16,
   "metadata": {},
   "outputs": [
    {
     "data": {
      "text/plain": [
       "post_id                     object\n",
       "timestamp                   object\n",
       "day_of_week                 object\n",
       "platform                    object\n",
       "user_id                     object\n",
       "location                    object\n",
       "language                    object\n",
       "text_content                object\n",
       "hashtags                    object\n",
       "mentions                    object\n",
       "keywords                    object\n",
       "topic_category              object\n",
       "sentiment_score            float64\n",
       "sentiment_label             object\n",
       "emotion_type                object\n",
       "toxicity_score             float64\n",
       "likes_count                  int64\n",
       "shares_count                 int64\n",
       "comments_count               int64\n",
       "impressions                  int64\n",
       "engagement_rate            float64\n",
       "brand_name                  object\n",
       "product_name                object\n",
       "campaign_name               object\n",
       "campaign_phase              object\n",
       "user_past_sentiment_avg    float64\n",
       "user_engagement_growth     float64\n",
       "buzz_change_rate           float64\n",
       "dtype: object"
      ]
     },
     "execution_count": 16,
     "metadata": {},
     "output_type": "execute_result"
    }
   ],
   "source": [
    "df.dtypes"
   ]
  }
 ],
 "metadata": {
  "kernelspec": {
   "display_name": "venv",
   "language": "python",
   "name": "python3"
  },
  "language_info": {
   "codemirror_mode": {
    "name": "ipython",
    "version": 3
   },
   "file_extension": ".py",
   "mimetype": "text/x-python",
   "name": "python",
   "nbconvert_exporter": "python",
   "pygments_lexer": "ipython3",
   "version": "3.11.4"
  }
 },
 "nbformat": 4,
 "nbformat_minor": 2
}
