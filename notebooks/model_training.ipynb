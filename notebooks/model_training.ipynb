{
 "cells": [
  {
   "cell_type": "code",
   "execution_count": null,
   "metadata": {},
   "outputs": [],
   "source": [
    "import pandas as pd\n",
    "from sklearn.ensemble import RandomForestClassifier\n",
    "from sklearn.model_selection import train_test_split\n",
    "from sklearn.preprocessing import LabelEncoder\n",
    "import joblib\n",
    "\n",
    "# Load labeled data\n",
    "features_df = pd.read_csv(\"../data/column_features.csv\")\n",
    "\n",
    "# Encode dtype and label\n",
    "features_df['dtype_encoded'] = LabelEncoder().fit_transform(features_df['dtype'])\n",
    "features_df['label_encoded'] = LabelEncoder().fit_transform(features_df['label'])\n",
    "\n",
    "X = features_df[['dtype_encoded', 'null_pct', 'unique_pct', 'avg_len']]\n",
    "y = features_df['label_encoded']\n",
    "\n",
    "X_train, X_test, y_train, y_test = train_test_split(X, y, test_size=0.2)\n",
    "model = RandomForestClassifier(n_estimators=100)\n",
    "model.fit(X_train, y_train)\n",
    "\n",
    "print(\"✅ Model trained with accuracy on training set:\", model.score(X_train, y_train))\n",
    "\n",
    "# Save model\n",
    "joblib.dump(model, \"../models/column_transform_model.pkl\")"
   ]
  }
 ],
 "metadata": {
  "language_info": {
   "name": "python"
  }
 },
 "nbformat": 4,
 "nbformat_minor": 2
}
