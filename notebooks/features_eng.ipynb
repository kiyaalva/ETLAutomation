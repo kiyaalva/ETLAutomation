{
 "cells": [
  {
   "cell_type": "code",
   "execution_count": null,
   "metadata": {},
   "outputs": [],
   "source": [
    "# 📓 01_feature_engineering.ipynb\n",
    "# Extract features from columns for training the ML model\n",
    "\n",
    "import pandas as pd\n",
    "import os\n",
    "\n",
    "# Directory with raw CSV files\n",
    "data_dir = \"../data/raw\"\n",
    "all_feature_rows = []\n",
    "\n",
    "def extract_features_from_column(series: pd.Series):\n",
    "    return {\n",
    "        'column': series.name,\n",
    "        'dtype': str(series.dtype),\n",
    "        'null_pct': series.isnull().mean(),\n",
    "        'unique_pct': series.nunique() / len(series),\n",
    "        'avg_len': series.astype(str).str.len().mean() if series.dtype == 'object' else 0,\n",
    "        'label': ''  # To be filled manually later\n",
    "    }\n",
    "\n",
    "# Loop through all CSVs and extract column-wise features\n",
    "for file in os.listdir(data_dir):\n",
    "    if file.endswith(\".csv\"):\n",
    "        df = pd.read_csv(os.path.join(data_dir, file))\n",
    "        for col in df.columns:\n",
    "            features = extract_features_from_column(df[col])\n",
    "            features['source_file'] = file\n",
    "            all_feature_rows.append(features)\n",
    "\n",
    "features_df = pd.DataFrame(all_feature_rows)\n",
    "features_df.to_csv(\"../data/column_features.csv\", index=False)\n",
    "print(\"✅ Features extracted. Please label them in column_features.csv\")\n"
   ]
  }
 ],
 "metadata": {
  "language_info": {
   "name": "python"
  }
 },
 "nbformat": 4,
 "nbformat_minor": 2
}
