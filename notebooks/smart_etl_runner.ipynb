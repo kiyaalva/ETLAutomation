{
 "cells": [
  {
   "cell_type": "code",
   "execution_count": 5,
   "metadata": {},
   "outputs": [
    {
     "name": "stdout",
     "output_type": "stream",
     "text": [
      "Education: 0\n",
      "JoiningYear: 1\n",
      "City: 1\n",
      "PaymentTier: 1\n",
      "Age: 1\n",
      "Gender: 1\n",
      "EverBenched: 1\n",
      "ExperienceInCurrentDomain: 1\n",
      "LeaveOrNot: 1\n",
      "\n",
      "✅ Final transformed data:\n",
      "   Education  JoiningYear       City  PaymentTier  Age  Gender EverBenched  \\\n",
      "0  Bachelors         2017  Bangalore            3   34    Male          No   \n",
      "1  Bachelors         2013       Pune            1   28  Female          No   \n",
      "2  Bachelors         2014  New Delhi            3   38  Female          No   \n",
      "3    Masters         2016  Bangalore            3   27    Male          No   \n",
      "4    Masters         2017       Pune            3   24    Male         Yes   \n",
      "\n",
      "   ExperienceInCurrentDomain  LeaveOrNot  \n",
      "0                          0           0  \n",
      "1                          3           1  \n",
      "2                          2           0  \n",
      "3                          5           1  \n",
      "4                          2           1  \n"
     ]
    }
   ],
   "source": [
    "import pandas as pd\n",
    "import joblib\n",
    "from etl_model_utils import predict_column_transformation\n",
    "\n",
    "model = joblib.load(\"../models/column_transform_model.pkl\")\n",
    "\n",
    "def smart_etl_with_model(filepath, model):\n",
    "    df = pd.read_csv(filepath)\n",
    "    transformed_df = df.copy()\n",
    "\n",
    "    for col in df.columns:\n",
    "        action = predict_column_transformation(df[col], model)\n",
    "        print(f\"{col}: {action}\")\n",
    "\n",
    "        if action == 'drop_column':\n",
    "            transformed_df.drop(columns=[col], inplace=True)\n",
    "        elif action == 'fill_zero':\n",
    "            transformed_df[col] = transformed_df[col].fillna(0)\n",
    "        elif action == 'fill_mean':\n",
    "            if pd.api.types.is_numeric_dtype(df[col]):\n",
    "                transformed_df[col] = transformed_df[col].fillna(df[col].mean())\n",
    "        elif action == 'strip_string':\n",
    "            transformed_df[col] = transformed_df[col].astype(str).str.strip()\n",
    "        elif action == 'cast_to_string':\n",
    "            transformed_df[col] = transformed_df[col].astype(str)\n",
    "\n",
    "    print(\"\\n✅ Final transformed data:\")\n",
    "    print(transformed_df.head())\n",
    "    return transformed_df\n",
    "\n",
    "# Example usage:\n",
    "df = smart_etl_with_model(\"../data/raw/Employee.csv\", model)\n"
   ]
  },
  {
   "cell_type": "code",
   "execution_count": 9,
   "metadata": {},
   "outputs": [
    {
     "data": {
      "text/plain": [
       "Education                    object\n",
       "JoiningYear                   int64\n",
       "City                         object\n",
       "PaymentTier                   int64\n",
       "Age                           int64\n",
       "Gender                       object\n",
       "EverBenched                  object\n",
       "ExperienceInCurrentDomain     int64\n",
       "LeaveOrNot                    int64\n",
       "dtype: object"
      ]
     },
     "execution_count": 9,
     "metadata": {},
     "output_type": "execute_result"
    }
   ],
   "source": [
    "df.dtypes"
   ]
  }
 ],
 "metadata": {
  "kernelspec": {
   "display_name": "venv",
   "language": "python",
   "name": "python3"
  },
  "language_info": {
   "codemirror_mode": {
    "name": "ipython",
    "version": 3
   },
   "file_extension": ".py",
   "mimetype": "text/x-python",
   "name": "python",
   "nbconvert_exporter": "python",
   "pygments_lexer": "ipython3",
   "version": "3.11.4"
  }
 },
 "nbformat": 4,
 "nbformat_minor": 2
}
